{
 "cells": [
  {
   "cell_type": "markdown",
   "id": "85bb39ae",
   "metadata": {},
   "source": [
    "# Lab 2: Exploring Image Data\n",
    "## by Michael Doherty, Leilani Guzman, and Carson Pittman"
   ]
  },
  {
   "cell_type": "markdown",
   "id": "cc093e6e",
   "metadata": {},
   "source": [
    "## 1. Business Understanding\n",
    "\n",
    "Link to the dataset: https://www.kaggle.com/datasets/brsdincer/vehicle-detection-image-set"
   ]
  },
  {
   "cell_type": "markdown",
   "id": "b1a303c6",
   "metadata": {},
   "source": [
    "## 2. Data Preparation"
   ]
  },
  {
   "cell_type": "markdown",
   "id": "e13f223e",
   "metadata": {},
   "source": [
    "## 3. Data Reduction"
   ]
  },
  {
   "cell_type": "markdown",
   "id": "c886bf91",
   "metadata": {},
   "source": [
    "## 4. Feature Extraction Using DAISY Key Point Matching"
   ]
  }
 ],
 "metadata": {
  "kernelspec": {
   "display_name": "Python 3 (ipykernel)",
   "language": "python",
   "name": "python3"
  },
  "language_info": {
   "codemirror_mode": {
    "name": "ipython",
    "version": 3
   },
   "file_extension": ".py",
   "mimetype": "text/x-python",
   "name": "python",
   "nbconvert_exporter": "python",
   "pygments_lexer": "ipython3",
   "version": "3.11.4"
  }
 },
 "nbformat": 4,
 "nbformat_minor": 5
}
