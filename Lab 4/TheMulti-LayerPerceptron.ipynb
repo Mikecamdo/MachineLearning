{
 "cells": [
  {
   "cell_type": "markdown",
   "id": "f5dbe7eb",
   "metadata": {},
   "source": [
    "# Lab 4: The Multi-Layer Perceptron\n",
    "## by Michael Doherty, Leilani Guzman, and Carson Pittman"
   ]
  },
  {
   "cell_type": "markdown",
   "id": "9c90e14f",
   "metadata": {},
   "source": [
    "Link to the dataset: https://www.kaggle.com/datasets/muonneutrino/us-census-demographic-data/data"
   ]
  },
  {
   "cell_type": "markdown",
   "id": "5f6e7c09",
   "metadata": {},
   "source": [
    "## 1. Load, Split, and Balance\n",
    "### 1.1 Loading the Data"
   ]
  },
  {
   "cell_type": "markdown",
   "id": "28176e86",
   "metadata": {},
   "source": [
    "### 1.2 Balancing the Dataset"
   ]
  },
  {
   "cell_type": "markdown",
   "id": "a6ee42e8",
   "metadata": {},
   "source": [
    "### 1.3 Splitting the Dataset"
   ]
  },
  {
   "cell_type": "markdown",
   "id": "7ea64db1",
   "metadata": {},
   "source": [
    "## 2. Pre-Processing and Initial Modeling\n",
    "### 2.1 Two-Layer Perceptron"
   ]
  },
  {
   "cell_type": "markdown",
   "id": "e8498f92",
   "metadata": {},
   "source": [
    "### 2.2 Normalizing Continuous Numeric Data"
   ]
  },
  {
   "cell_type": "markdown",
   "id": "2fd4f0d0",
   "metadata": {},
   "source": [
    "### 2.3 One Hot Encoding Categorical Data"
   ]
  },
  {
   "cell_type": "markdown",
   "id": "29164c83",
   "metadata": {},
   "source": [
    "### 2.4 Comparison"
   ]
  },
  {
   "cell_type": "markdown",
   "id": "20ed8a06",
   "metadata": {},
   "source": [
    "## 3. Modeling\n",
    "### 3.1 Adding a Third Layer"
   ]
  },
  {
   "cell_type": "markdown",
   "id": "d099e02d",
   "metadata": {},
   "source": [
    "### 3.2 Adding a Fourth Layer"
   ]
  },
  {
   "cell_type": "markdown",
   "id": "97018ea9",
   "metadata": {},
   "source": [
    "### 3.3 Adding a Fifth Layer"
   ]
  },
  {
   "cell_type": "markdown",
   "id": "77cb165d",
   "metadata": {},
   "source": [
    "### 3.4 Implementing Adaptive Learning (RENAME TO WHICHEVER ONE WE CHOOSE)"
   ]
  },
  {
   "cell_type": "markdown",
   "id": "9f3f2b8e",
   "metadata": {},
   "source": [
    "## 4. Adaptive Momentum (AdaM)\n",
    "### 4.1 Implementing Adaptive Momentum"
   ]
  },
  {
   "cell_type": "markdown",
   "id": "bdce0aec",
   "metadata": {},
   "source": [
    "### 4.2 "
   ]
  }
 ],
 "metadata": {
  "kernelspec": {
   "display_name": "Python 3 (ipykernel)",
   "language": "python",
   "name": "python3"
  },
  "language_info": {
   "codemirror_mode": {
    "name": "ipython",
    "version": 3
   },
   "file_extension": ".py",
   "mimetype": "text/x-python",
   "name": "python",
   "nbconvert_exporter": "python",
   "pygments_lexer": "ipython3",
   "version": "3.11.4"
  }
 },
 "nbformat": 4,
 "nbformat_minor": 5
}
