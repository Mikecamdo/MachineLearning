{
 "cells": [
  {
   "cell_type": "markdown",
   "id": "7d35a951",
   "metadata": {},
   "source": [
    "# Lab 3: Extending Logistic Regression\n",
    "## by Michael Doherty, Leilani Guzman, and Carson Pittman"
   ]
  },
  {
   "cell_type": "markdown",
   "id": "9660f3bc",
   "metadata": {},
   "source": [
    "## 1. Business Understanding\n",
    "\n",
    "In 1633, the Japanese government, feeling threatened by Spanish and Portugese influence within their country, banned foreign goods as part of their isolationist foreign policy (called [Sakoku](https://en.wikipedia.org/wiki/Sakoku)). As part of this ban, European playing cards were forbidden, so Japanese playing cards, called [hanafuda](https://lammuseum.wfu.edu/2021/12/japanese-hanafuda-cards/), were developed; however, hanafuda struggled to gain popularity among the Japanese populace. Centuries later, on November 22, 1859 in Kyoto, Japan, a man named Fusajiro Yamauchi was born. An aspiring artist and entrepreneur, Yamauchi saw an opportunity with hanafuda, so in 1889 he opened a shop to sell his own handcrafted cards. What was the name of that shop? [Nintendo Koppai](https://www.lifewire.com/fusajiro-yamauchi-founder-of-nintendo-729584) (which was later shortened to just Nintendo).\n",
    "\n",
    "While Fusajiro Yamauchi would never know it, his card company would eventually become one of the biggest video game companies in the world. Since the mid-twentieth century, advancements in technology have propelled video games to become a multi-billion dollar industry. Yet, not all video games are made equal; from sports games like the [FIFA series](https://en.wikipedia.org/wiki/FIFA_(video_game_series)) to puzzle games like [Tetris](https://en.wikipedia.org/wiki/Tetris), there are several genres that a video game can belong to.\n",
    "\n",
    "The dataset we've selected, titled \"Global Video Game Sales\", was created to analyze how a video game's genre relates to the platform it was released on, its publisher, and its sales (both globally and in various regions). The dataset consists of 16,600 instances with 11 multivariate attributes, comprised of numeric and categorical data types.\n",
    "\n",
    "Ultimately, the prediction task for this dataset is to determine what a video game's genre is. Who might be interested in this research? For starters, video game companies may be interested to see which video game genre has the best sales. They may also find that certain genres are more popular in some markets than others (such as puzzle games being popular in Japan and sports games being popular in Europe). This information can help inform their strategies on what types of games they should make and where they should focus their marketing efforts.\n",
    "\n",
    "...**SAY SOMETHING ABOUT HOW THIS MODEL WOULD BE USED FOR OFFLINE ANALYSIS**\n",
    "\n",
    "So what does a good prediction algorithm for this dataset look like? There are several factors that need to be considered:\n",
    "- **Accuracy**:\n",
    "- **False Positives and False Negatives**:\n",
    "- **Finding Useful Trends**: (???) (Like finding clear trends, such as: Nintendo games sell best in Japan or the most profitable genre is Shooter games, etc.)\n",
    "\n",
    "...**ADD MORE**\n",
    "\n",
    "Link to the dataset: https://www.kaggle.com/datasets/thedevastator/global-video-game-sales"
   ]
  },
  {
   "cell_type": "markdown",
   "id": "a3e3860f",
   "metadata": {},
   "source": [
    "## 2. Data Preparation"
   ]
  },
  {
   "cell_type": "markdown",
   "id": "3c79e080",
   "metadata": {},
   "source": [
    "## 3. Modeling"
   ]
  },
  {
   "cell_type": "markdown",
   "id": "a32cd98b",
   "metadata": {},
   "source": [
    "## 4. Deployment"
   ]
  },
  {
   "cell_type": "markdown",
   "id": "650c0df6",
   "metadata": {},
   "source": [
    "## 5. Exceptional Work (rename to what we actually end up doing)"
   ]
  },
  {
   "cell_type": "code",
   "execution_count": null,
   "id": "ee83e623",
   "metadata": {},
   "outputs": [],
   "source": []
  }
 ],
 "metadata": {
  "kernelspec": {
   "display_name": "Python 3 (ipykernel)",
   "language": "python",
   "name": "python3"
  },
  "language_info": {
   "codemirror_mode": {
    "name": "ipython",
    "version": 3
   },
   "file_extension": ".py",
   "mimetype": "text/x-python",
   "name": "python",
   "nbconvert_exporter": "python",
   "pygments_lexer": "ipython3",
   "version": "3.11.4"
  }
 },
 "nbformat": 4,
 "nbformat_minor": 5
}
