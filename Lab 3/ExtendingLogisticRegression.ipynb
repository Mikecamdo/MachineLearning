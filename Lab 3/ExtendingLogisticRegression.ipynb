{
 "cells": [
  {
   "cell_type": "markdown",
   "id": "7d35a951",
   "metadata": {},
   "source": [
    "# Lab 3: Extending Logistic Regression\n",
    "## by Michael Doherty, Leilani Guzman, and Carson Pittman"
   ]
  },
  {
   "cell_type": "markdown",
   "id": "9660f3bc",
   "metadata": {},
   "source": [
    "## 1. Business Understanding"
   ]
  },
  {
   "cell_type": "markdown",
   "id": "624789e7",
   "metadata": {},
   "source": [
    "Link to the dataset: https://www.kaggle.com/datasets/thedevastator/global-video-game-sales"
   ]
  },
  {
   "cell_type": "markdown",
   "id": "a3e3860f",
   "metadata": {},
   "source": [
    "## 2. Data Preparation"
   ]
  },
  {
   "cell_type": "markdown",
   "id": "3c79e080",
   "metadata": {},
   "source": [
    "## 3. Modeling"
   ]
  },
  {
   "cell_type": "markdown",
   "id": "a32cd98b",
   "metadata": {},
   "source": [
    "## 4. Deployment"
   ]
  },
  {
   "cell_type": "markdown",
   "id": "650c0df6",
   "metadata": {},
   "source": [
    "## 5. Exceptional Work (rename to what we actually end up doing)"
   ]
  },
  {
   "cell_type": "code",
   "execution_count": null,
   "id": "ee83e623",
   "metadata": {},
   "outputs": [],
   "source": []
  }
 ],
 "metadata": {
  "kernelspec": {
   "display_name": "Python 3 (ipykernel)",
   "language": "python",
   "name": "python3"
  },
  "language_info": {
   "codemirror_mode": {
    "name": "ipython",
    "version": 3
   },
   "file_extension": ".py",
   "mimetype": "text/x-python",
   "name": "python",
   "nbconvert_exporter": "python",
   "pygments_lexer": "ipython3",
   "version": "3.11.4"
  }
 },
 "nbformat": 4,
 "nbformat_minor": 5
}
