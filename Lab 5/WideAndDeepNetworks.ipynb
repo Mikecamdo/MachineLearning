{
 "cells": [
  {
   "cell_type": "markdown",
   "id": "c9779fac",
   "metadata": {},
   "source": [
    "# Lab 5: Wide and Deep Networks\n",
    "## by Michael Doherty, Leilani Guzman, and Carson Pittman"
   ]
  },
  {
   "cell_type": "markdown",
   "id": "faecad6d",
   "metadata": {},
   "source": [
    "Potential datasets:\n",
    "\n",
    "Covid-19:\n",
    "https://www.kaggle.com/datasets/meirnizri/covid19-dataset/data\n",
    "\n",
    "Water Quality:\n",
    "https://www.kaggle.com/datasets/uom190346a/water-quality-and-potability\n",
    "\n",
    "Diabetes:\n",
    "https://www.kaggle.com/datasets/alexteboul/diabetes-health-indicators-dataset"
   ]
  },
  {
   "cell_type": "markdown",
   "id": "fe1ccafe",
   "metadata": {},
   "source": [
    "## 1. Preparation\n",
    "### 1.1 Data Preprocessing and Description"
   ]
  },
  {
   "cell_type": "markdown",
   "id": "b88dfc36",
   "metadata": {},
   "source": [
    "### 1.2 Cross-Product Features"
   ]
  },
  {
   "cell_type": "markdown",
   "id": "7f222c0d",
   "metadata": {},
   "source": [
    "### 1.3 Performance Metric"
   ]
  },
  {
   "cell_type": "markdown",
   "id": "1fc8c9a1",
   "metadata": {},
   "source": [
    "### 1.4 Training and Testing Method"
   ]
  },
  {
   "cell_type": "markdown",
   "id": "c1dba0b2",
   "metadata": {},
   "source": [
    "## 2. Modeling\n",
    "### 2.1 Initial Models"
   ]
  },
  {
   "cell_type": "markdown",
   "id": "c9c5a93b",
   "metadata": {},
   "source": [
    "### 2.2 Model Comparison"
   ]
  },
  {
   "cell_type": "markdown",
   "id": "90b5d4c0",
   "metadata": {},
   "source": [
    "### 2.3 Wide and Deep Network vs. Standard Multi-Layer Perceptron\n",
    "(We can also compare to just a \"deep\" network, in which case rename this section)"
   ]
  },
  {
   "cell_type": "markdown",
   "id": "7fe56ec5",
   "metadata": {},
   "source": [
    "## 3. Embedding Weights of Our Deep Network\n",
    "### 3.1 Capture Embedding Weights"
   ]
  },
  {
   "cell_type": "markdown",
   "id": "7135295e",
   "metadata": {},
   "source": [
    "### 3.2 Visualization and Explanation"
   ]
  }
 ],
 "metadata": {
  "kernelspec": {
   "display_name": "Python 3 (ipykernel)",
   "language": "python",
   "name": "python3"
  },
  "language_info": {
   "codemirror_mode": {
    "name": "ipython",
    "version": 3
   },
   "file_extension": ".py",
   "mimetype": "text/x-python",
   "name": "python",
   "nbconvert_exporter": "python",
   "pygments_lexer": "ipython3",
   "version": "3.11.4"
  }
 },
 "nbformat": 4,
 "nbformat_minor": 5
}
