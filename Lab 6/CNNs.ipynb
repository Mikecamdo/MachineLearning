{
 "cells": [
  {
   "cell_type": "markdown",
   "id": "880cdb51",
   "metadata": {},
   "source": [
    "# Lab 6: Convolutional Network Architectures\n",
    "## by Michael Doherty, Leilani Guzman, and Carson Pittman"
   ]
  },
  {
   "cell_type": "markdown",
   "id": "3fa760cf",
   "metadata": {},
   "source": [
    "Link to the dataset: https://www.kaggle.com/datasets/brsdincer/vehicle-detection-image-set"
   ]
  },
  {
   "cell_type": "markdown",
   "id": "2958e8e0",
   "metadata": {},
   "source": [
    "## 1. Preparation\n",
    "### 1.1 Performance Metric"
   ]
  },
  {
   "cell_type": "markdown",
   "id": "aae61549",
   "metadata": {},
   "source": [
    "### 1.2 Training and Testing Method"
   ]
  },
  {
   "cell_type": "markdown",
   "id": "263f29fe",
   "metadata": {},
   "source": [
    "## 2. Modeling\n",
    "### 2.1 Data Augmentation"
   ]
  },
  {
   "cell_type": "markdown",
   "id": "eb1bc7f0",
   "metadata": {},
   "source": [
    "### 2.2 Model Creation"
   ]
  },
  {
   "cell_type": "markdown",
   "id": "1bc80110",
   "metadata": {},
   "source": [
    "### 2.3 Model Visualization and Comparison"
   ]
  },
  {
   "cell_type": "markdown",
   "id": "7d7497d7",
   "metadata": {},
   "source": [
    "### 2.4 Convolutional Network vs. Multi-Layer Perceptron"
   ]
  },
  {
   "cell_type": "markdown",
   "id": "75384c55",
   "metadata": {},
   "source": [
    "## 3. Transfer Learning\n",
    "### 3.1 Transfer Learning Model"
   ]
  },
  {
   "cell_type": "markdown",
   "id": "c62728ff",
   "metadata": {},
   "source": [
    "### 3.2 Model Comparison"
   ]
  }
 ],
 "metadata": {
  "kernelspec": {
   "display_name": "Python 3 (ipykernel)",
   "language": "python",
   "name": "python3"
  },
  "language_info": {
   "codemirror_mode": {
    "name": "ipython",
    "version": 3
   },
   "file_extension": ".py",
   "mimetype": "text/x-python",
   "name": "python",
   "nbconvert_exporter": "python",
   "pygments_lexer": "ipython3",
   "version": "3.8.17"
  }
 },
 "nbformat": 4,
 "nbformat_minor": 5
}
